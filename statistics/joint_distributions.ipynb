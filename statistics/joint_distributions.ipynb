{
 "cells": [
  {
   "cell_type": "code",
   "execution_count": 1,
   "metadata": {},
   "outputs": [
    {
     "ename": "ModuleNotFoundError",
     "evalue": "No module named 'matplotlib'",
     "output_type": "error",
     "traceback": [
      "\u001b[0;31m---------------------------------------------------------------------------\u001b[0m",
      "\u001b[0;31mModuleNotFoundError\u001b[0m                       Traceback (most recent call last)",
      "Cell \u001b[0;32mIn[1], line 2\u001b[0m\n\u001b[1;32m      1\u001b[0m \u001b[38;5;28;01mimport\u001b[39;00m \u001b[38;5;21;01mnumpy\u001b[39;00m \u001b[38;5;28;01mas\u001b[39;00m \u001b[38;5;21;01mnp\u001b[39;00m\n\u001b[0;32m----> 2\u001b[0m \u001b[38;5;28;01mimport\u001b[39;00m \u001b[38;5;21;01mmatplotlib\u001b[39;00m\u001b[38;5;21;01m.\u001b[39;00m\u001b[38;5;21;01mpyplot\u001b[39;00m \u001b[38;5;28;01mas\u001b[39;00m \u001b[38;5;21;01mplt\u001b[39;00m\n\u001b[1;32m      3\u001b[0m \u001b[38;5;28;01mfrom\u001b[39;00m \u001b[38;5;21;01mmpl_toolkits\u001b[39;00m\u001b[38;5;21;01m.\u001b[39;00m\u001b[38;5;21;01mmplot3d\u001b[39;00m \u001b[38;5;28;01mimport\u001b[39;00m Axes3D\n\u001b[1;32m      5\u001b[0m \u001b[38;5;66;03m# Define the possible outcomes for two dice rolls\u001b[39;00m\n",
      "\u001b[0;31mModuleNotFoundError\u001b[0m: No module named 'matplotlib'"
     ]
    }
   ],
   "source": [
    "import numpy as np\n",
    "import matplotlib.pyplot as plt\n",
    "from mpl_toolkits.mplot3d import Axes3D\n",
    "\n",
    "# Define the possible outcomes for two dice rolls\n",
    "dice_faces = np.arange(1, 7)\n",
    "\n",
    "# Calculate probabilities for x (first die roll)\n",
    "x_prob = np.ones_like(dice_faces) / len(dice_faces)\n",
    "\n",
    "# Calculate probabilities for y (sum of two dice rolls)\n",
    "sum_outcomes = np.arange(2, 13)  # Range for the sum of two dice (2 to 12)\n",
    "y_prob = np.zeros_like(sum_outcomes, dtype=float)\n",
    "\n",
    "# Calculate probabilities for each sum outcome\n",
    "for i in dice_faces:\n",
    "    for j in dice_faces:\n",
    "        y_prob[i + j - 2] += 1 / 36  # 36 total combinations for two dice\n",
    "\n",
    "# Create 3D joint distribution plot\n",
    "X, Y = np.meshgrid(dice_faces, sum_outcomes)\n",
    "Z = np.zeros_like(X, dtype=float)\n",
    "\n",
    "# Fill Z with joint probabilities\n",
    "for i in range(len(dice_faces)):\n",
    "    for j in range(len(sum_outcomes)):\n",
    "        if 2 <= dice_faces[i] + (j + 2) <= 12:\n",
    "            Z[j, i] = x_prob[i] * y_prob[j]\n",
    "\n",
    "# Plotting\n",
    "fig = plt.figure(figsize=(12, 8))\n",
    "ax = fig.add_subplot(111, projection='3d')\n",
    "\n",
    "# Create the surface plot\n",
    "ax.plot_surface(X, Y, Z, cmap='viridis')\n",
    "\n",
    "# Labeling\n",
    "ax.set_title(\"3D Joint Distribution of Two Random Variables X and Y\")\n",
    "ax.set_xlabel(\"Outcome of First Die (X)\")\n",
    "ax.set_ylabel(\"Sum of Two Dice (Y)\")\n",
    "ax.set_zlabel(\"Joint Probability\")\n",
    "\n",
    "plt.show()\n"
   ]
  }
 ],
 "metadata": {
  "kernelspec": {
   "display_name": "myenv",
   "language": "python",
   "name": "python3"
  },
  "language_info": {
   "codemirror_mode": {
    "name": "ipython",
    "version": 3
   },
   "file_extension": ".py",
   "mimetype": "text/x-python",
   "name": "python",
   "nbconvert_exporter": "python",
   "pygments_lexer": "ipython3",
   "version": "3.12.7"
  }
 },
 "nbformat": 4,
 "nbformat_minor": 2
}
